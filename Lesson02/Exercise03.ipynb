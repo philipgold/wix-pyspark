{
 "cells": [
  {
   "cell_type": "markdown",
   "metadata": {},
   "source": [
    "# Exercise03\n",
    "# Debugging - Errors During Execution"
   ]
  },
  {
   "cell_type": "markdown",
   "metadata": {},
   "source": [
    "### Task: Find and solve an issue"
   ]
  },
  {
   "cell_type": "code",
   "execution_count": 1,
   "metadata": {},
   "outputs": [],
   "source": [
    "from pyspark.sql import SparkSession\n",
    "from pyspark.sql import functions as F\n",
    "from pyspark.sql.types import *\n",
    "\n",
    "spark = SparkSession.builder\\\n",
    "\t.appName(\"Lesson 2 Spark Exercise 03\")\\\n",
    "\t.getOrCreate()\n",
    "\n",
    "weaponTypesSchema =  StructType([\n",
    "    StructField(\"id\", IntegerType(), True),\n",
    "    StructField(\"weapon_name\", StringType(), True),\n",
    "    StructField(\"weapon_range\", IntegerType(), False)\n",
    "])"
   ]
  },
  {
   "cell_type": "code",
   "execution_count": 2,
   "metadata": {},
   "outputs": [],
   "source": [
    "dfEventTypes = spark.read \\\n",
    ".format(\"csv\") \\\n",
    ".option(\"header\",\"true\") \\\n",
    ".option(\"mode\", \"FAILFAST\") \\\n",
    ".option(\"delimiter\", \"|\") \\\n",
    ".load(\"data/Exercise03/event_types.csv\") \\\n",
    ".withColumnRenamed(\"event type\", \"event_type\")\n"
   ]
  },
  {
   "cell_type": "code",
   "execution_count": 3,
   "metadata": {},
   "outputs": [],
   "source": [
    "dfWeaponTypes = spark.read \\\n",
    ".format(\"csv\") \\\n",
    ".option(\"header\",\"true\") \\\n",
    ".option(\"mode\", \"PERMISSIVE\") \\\n",
    ".schema(weaponTypesSchema) \\\n",
    ".load(\"data/Exercise03/weapon_types.csv\") \\\n",
    ".withColumnRenamed(\"in range\", \"weapon_range\") \\\n",
    ".withColumnRenamed(\"name\", \"weapon_name\")"
   ]
  },
  {
   "cell_type": "code",
   "execution_count": 4,
   "metadata": {},
   "outputs": [
    {
     "name": "stdout",
     "output_type": "stream",
     "text": [
      "root\n",
      " |-- id: string (nullable = true)\n",
      " |-- event_type: string (nullable = true)\n",
      "\n",
      "root\n",
      " |-- id: integer (nullable = true)\n",
      " |-- weapon_name: string (nullable = true)\n",
      " |-- weapon_range: integer (nullable = true)\n",
      "\n",
      "+----+-----------+------------+\n",
      "|  id|weapon_name|weapon_range|\n",
      "+----+-----------+------------+\n",
      "|null|       null|        null|\n",
      "|   2|        uzi|         200|\n",
      "|   3|        akm|        2200|\n",
      "|   4|   revolver|         100|\n",
      "|null|       null|        null|\n",
      "+----+-----------+------------+\n",
      "\n",
      "+---+--------------+\n",
      "| id|    event_type|\n",
      "+---+--------------+\n",
      "|  1|          kill|\n",
      "|  2|         wound|\n",
      "|  3|           hit|\n",
      "|  4|          shot|\n",
      "|  5|       misfire|\n",
      "|  6|   close range|\n",
      "|  7|avgerage range|\n",
      "|  8|    long range|\n",
      "+---+--------------+\n",
      "\n"
     ]
    }
   ],
   "source": [
    "dfEventTypes.printSchema()\n",
    "dfWeaponTypes.printSchema()\n",
    "dfWeaponTypes.show()\n",
    "dfEventTypes.show()\n",
    "\n",
    " "
   ]
  },
  {
   "cell_type": "code",
   "execution_count": 5,
   "metadata": {},
   "outputs": [
    {
     "data": {
      "text/html": [
       "\n",
       "            <div>\n",
       "                <p><b>SparkSession - in-memory</b></p>\n",
       "                \n",
       "        <div>\n",
       "            <p><b>SparkContext</b></p>\n",
       "\n",
       "            <p><a href=\"http://192.168.0.109:4042\">Spark UI</a></p>\n",
       "\n",
       "            <dl>\n",
       "              <dt>Version</dt>\n",
       "                <dd><code>v2.4.3</code></dd>\n",
       "              <dt>Master</dt>\n",
       "                <dd><code>local[*]</code></dd>\n",
       "              <dt>AppName</dt>\n",
       "                <dd><code>Lesson 2 Spark Exercise 03</code></dd>\n",
       "            </dl>\n",
       "        </div>\n",
       "        \n",
       "            </div>\n",
       "        "
      ],
      "text/plain": [
       "<pyspark.sql.session.SparkSession at 0x1059870b8>"
      ]
     },
     "execution_count": 5,
     "metadata": {},
     "output_type": "execute_result"
    }
   ],
   "source": [
    "spark"
   ]
  },
  {
   "cell_type": "code",
   "execution_count": null,
   "metadata": {},
   "outputs": [],
   "source": []
  }
 ],
 "metadata": {
  "kernelspec": {
   "display_name": "Python 3",
   "language": "python",
   "name": "python3"
  },
  "language_info": {
   "codemirror_mode": {
    "name": "ipython",
    "version": 3
   },
   "file_extension": ".py",
   "mimetype": "text/x-python",
   "name": "python",
   "nbconvert_exporter": "python",
   "pygments_lexer": "ipython3",
   "version": "3.7.3"
  }
 },
 "nbformat": 4,
 "nbformat_minor": 2
}
