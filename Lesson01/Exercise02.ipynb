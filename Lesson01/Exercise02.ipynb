#%%
from pyspark import SparkContext

sc = SparkContext("local", "first app")
#%%
from operator import add

lines = sc.textFile("file:////Users/pg/sourcecode/myprojects/pyspark-kafka-twitter-steam-demo/README.md")
counts = lines.flatMap(lambda x: x.split(' ')) \
              .map(lambda x: (x, 1)) \
              .reduceByKey(add)
output = counts.collect()

for (word, count) in output:
    print("%s: %i" % (word, count))
#%%
