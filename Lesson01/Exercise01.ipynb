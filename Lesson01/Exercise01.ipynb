{
  "cells": [
    {
      "cell_type": "code",
      "execution_count": 4,
      "metadata": {
        "pycharm": {
          "is_executing": false
        }
      },
      "outputs": [],
      "source": "# Creating a SparkSession\nfrom pyspark.sql import SparkSession\n\nspark \u003d SparkSession.builder.master(\"local\").appName(\"Word Count\") \\\n    .config(\"spark.some.config.option\", \"some-value\") \\\n    .getOrCreate()\n"
    },
    {
      "cell_type": "code",
      "execution_count": 5,
      "metadata": {
        "pycharm": {
          "is_executing": false
        }
      },
      "outputs": [
        {
          "data": {
            "text/plain": [
              "[Row(sum(id)\u003d2500000000000)]"
            ]
          },
          "execution_count": 5,
          "metadata": {},
          "output_type": "execute_result"
        }
      ],
      "source": "\ndf1 \u003d spark.range(2,10000000, 2) \ndf2 \u003d spark.range(2,10000000, 4) \nstep1 \u003d df1.repartition(5) \nstep12 \u003d df2.repartition(6) \nstep2 \u003d step1.selectExpr(\"id * 5 as id\") \nstep3 \u003d step2.join(step12, [\"id\"])\nstep4 \u003d step3.selectExpr(\"sum(id)\") \nstep4.collect() # 2500000000000\n"
    },
    {
      "cell_type": "code",
      "execution_count": null,
      "outputs": [],
      "source": "step4.explain()\n",
      "metadata": {
        "pycharm": {
          "metadata": false,
          "name": "#%%\n"
        }
      }
    }
  ],
  "metadata": {
    "kernelspec": {
      "display_name": "Python 3",
      "language": "python",
      "name": "python3"
    },
    "language_info": {
      "codemirror_mode": {
        "name": "ipython",
        "version": 3
      },
      "file_extension": ".py",
      "mimetype": "text/x-python",
      "name": "python",
      "nbconvert_exporter": "python",
      "pygments_lexer": "ipython3",
      "version": "3.7.3"
    }
  },
  "nbformat": 4,
  "nbformat_minor": 2
}